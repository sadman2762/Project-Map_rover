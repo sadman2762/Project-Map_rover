{
 "cells": [
  {
   "cell_type": "code",
   "execution_count": 3,
   "metadata": {},
   "outputs": [
    {
     "name": "stdout",
     "output_type": "stream",
     "text": [
      "Collecting numpy\n",
      "  Downloading numpy-2.1.1-cp312-cp312-win_amd64.whl.metadata (59 kB)\n",
      "Downloading numpy-2.1.1-cp312-cp312-win_amd64.whl (12.6 MB)\n",
      "   ---------------------------------------- 0.0/12.6 MB ? eta -:--:--\n",
      "   ------------------------------ --------- 9.7/12.6 MB 46.5 MB/s eta 0:00:01\n",
      "   ---------------------------------------- 12.6/12.6 MB 41.4 MB/s eta 0:00:00\n",
      "Installing collected packages: numpy\n",
      "Successfully installed numpy-2.1.1\n",
      "Note: you may need to restart the kernel to use updated packages.\n"
     ]
    }
   ],
   "source": [
    "pip install numpy --user\n"
   ]
  },
  {
   "cell_type": "code",
   "execution_count": 23,
   "metadata": {},
   "outputs": [
    {
     "name": "stdout",
     "output_type": "stream",
     "text": [
      "Collecting pandas\n",
      "  Downloading pandas-2.2.3-cp312-cp312-win_amd64.whl.metadata (19 kB)\n",
      "Requirement already satisfied: numpy>=1.26.0 in c:\\users\\user\\appdata\\roaming\\python\\python312\\site-packages (from pandas) (2.1.1)\n",
      "Requirement already satisfied: python-dateutil>=2.8.2 in c:\\users\\user\\appdata\\roaming\\python\\python312\\site-packages (from pandas) (2.9.0.post0)\n",
      "Collecting pytz>=2020.1 (from pandas)\n",
      "  Downloading pytz-2024.2-py2.py3-none-any.whl.metadata (22 kB)\n",
      "Collecting tzdata>=2022.7 (from pandas)\n",
      "  Downloading tzdata-2024.1-py2.py3-none-any.whl.metadata (1.4 kB)\n",
      "Requirement already satisfied: six>=1.5 in c:\\users\\user\\appdata\\roaming\\python\\python312\\site-packages (from python-dateutil>=2.8.2->pandas) (1.16.0)\n",
      "Downloading pandas-2.2.3-cp312-cp312-win_amd64.whl (11.5 MB)\n",
      "   ---------------------------------------- 0.0/11.5 MB ? eta -:--:--\n",
      "   ----------------------- ---------------- 6.8/11.5 MB 38.1 MB/s eta 0:00:01\n",
      "   ---------------------------------------- 11.5/11.5 MB 35.9 MB/s eta 0:00:00\n",
      "Downloading pytz-2024.2-py2.py3-none-any.whl (508 kB)\n",
      "Downloading tzdata-2024.1-py2.py3-none-any.whl (345 kB)\n",
      "Installing collected packages: pytz, tzdata, pandas\n",
      "Successfully installed pandas-2.2.3 pytz-2024.2 tzdata-2024.1\n",
      "Note: you may need to restart the kernel to use updated packages.\n"
     ]
    }
   ],
   "source": [
    "pip install pandas --user"
   ]
  },
  {
   "cell_type": "code",
   "execution_count": 24,
   "metadata": {},
   "outputs": [],
   "source": [
    "import pandas as pd\n"
   ]
  },
  {
   "cell_type": "code",
   "execution_count": 21,
   "metadata": {},
   "outputs": [],
   "source": [
    "import numpy as np"
   ]
  },
  {
   "cell_type": "code",
   "execution_count": 6,
   "metadata": {},
   "outputs": [],
   "source": [
    "Q = np.empty((9,9))\n",
    "Q[:] = np.nan"
   ]
  },
  {
   "cell_type": "code",
   "execution_count": 7,
   "metadata": {},
   "outputs": [
    {
     "data": {
      "text/plain": [
       "array([[nan, nan, nan, nan, nan, nan, nan, nan, nan],\n",
       "       [nan, nan, nan, nan, nan, nan, nan, nan, nan],\n",
       "       [nan, nan, nan, nan, nan, nan, nan, nan, nan],\n",
       "       [nan, nan, nan, nan, nan, nan, nan, nan, nan],\n",
       "       [nan, nan, nan, nan, nan, nan, nan, nan, nan],\n",
       "       [nan, nan, nan, nan, nan, nan, nan, nan, nan],\n",
       "       [nan, nan, nan, nan, nan, nan, nan, nan, nan],\n",
       "       [nan, nan, nan, nan, nan, nan, nan, nan, nan],\n",
       "       [nan, nan, nan, nan, nan, nan, nan, nan, nan]])"
      ]
     },
     "execution_count": 7,
     "metadata": {},
     "output_type": "execute_result"
    }
   ],
   "source": [
    "Q"
   ]
  },
  {
   "cell_type": "code",
   "execution_count": 8,
   "metadata": {},
   "outputs": [],
   "source": [
    "Q[0,[0,1,3]] = 0\n",
    "Q[1,[0,1,2,4]] = 0\n",
    "Q[2,[1,2,5]] = 0\n",
    "Q[3,[0,3,4]] = 0\n",
    "Q[4,[1,3,4,5,7]] = 0\n",
    "Q[5,[2,4,5,8]] = 0\n",
    "Q[6,[3,6,7]] = 0\n",
    "Q[7,[4,6,7,8]] = 0\n",
    "Q[8,[5,7,8]] = 0"
   ]
  },
  {
   "cell_type": "code",
   "execution_count": 9,
   "metadata": {},
   "outputs": [
    {
     "data": {
      "text/plain": [
       "array([[ 0.,  0., nan,  0., nan, nan, nan, nan, nan],\n",
       "       [ 0.,  0.,  0., nan,  0., nan, nan, nan, nan],\n",
       "       [nan,  0.,  0., nan, nan,  0., nan, nan, nan],\n",
       "       [ 0., nan, nan,  0.,  0., nan, nan, nan, nan],\n",
       "       [nan,  0., nan,  0.,  0.,  0., nan,  0., nan],\n",
       "       [nan, nan,  0., nan,  0.,  0., nan, nan,  0.],\n",
       "       [nan, nan, nan,  0., nan, nan,  0.,  0., nan],\n",
       "       [nan, nan, nan, nan,  0., nan,  0.,  0.,  0.],\n",
       "       [nan, nan, nan, nan, nan,  0., nan,  0.,  0.]])"
      ]
     },
     "execution_count": 9,
     "metadata": {},
     "output_type": "execute_result"
    }
   ],
   "source": [
    "Q\n"
   ]
  },
  {
   "cell_type": "code",
   "execution_count": 10,
   "metadata": {},
   "outputs": [],
   "source": [
    "R = Q\n",
    "idx = np.isnan(R[:,4])\n",
    "R[~idx,4] =-1\n",
    "idx = np.isnan(R[:,8])\n",
    "R[~idx,8] = 1"
   ]
  },
  {
   "cell_type": "code",
   "execution_count": 11,
   "metadata": {},
   "outputs": [
    {
     "data": {
      "text/plain": [
       "array([[ 0.,  0., nan,  0., nan, nan, nan, nan, nan],\n",
       "       [ 0.,  0.,  0., nan, -1., nan, nan, nan, nan],\n",
       "       [nan,  0.,  0., nan, nan,  0., nan, nan, nan],\n",
       "       [ 0., nan, nan,  0., -1., nan, nan, nan, nan],\n",
       "       [nan,  0., nan,  0., -1.,  0., nan,  0., nan],\n",
       "       [nan, nan,  0., nan, -1.,  0., nan, nan,  1.],\n",
       "       [nan, nan, nan,  0., nan, nan,  0.,  0., nan],\n",
       "       [nan, nan, nan, nan, -1., nan,  0.,  0.,  1.],\n",
       "       [nan, nan, nan, nan, nan,  0., nan,  0.,  1.]])"
      ]
     },
     "execution_count": 11,
     "metadata": {},
     "output_type": "execute_result"
    }
   ],
   "source": [
    "R\n"
   ]
  },
  {
   "cell_type": "code",
   "execution_count": 30,
   "metadata": {},
   "outputs": [],
   "source": [
    "MAXITER = 1000\n",
    "NUMSTATE = 9\n",
    "eta = 0.99\n",
    "for k in range(MAXITER):\n",
    "    alpha = 1 /(k+1)\n",
    "    Q2 = Q.copy()\n",
    "    pk = 1 - (10/(20+k))\n",
    "    selectMax = False\n",
    "    if np.random.rand() < pk:\n",
    "        selectMax = True\n",
    "    for i in range(NUMSTATE):\n",
    "        idx = np.isnan(R[i,:])\n",
    "        allowedStates = np.arange(NUMSTATE)[~idx]\n",
    "        j = Q[i,allowedStates].argmax()\n",
    "        if selectMax:\n",
    "            j = allowedStates[j]\n",
    "        else:\n",
    "            allowedStates = np.delete(allowedStates,j)\n",
    "            j = np.random.permutation(allowedStates)[0]\n",
    "        Q2[i,j] = (1 - alpha**k)*Q[i,j] + (alpha**k)*(R[i,j] +eta* np.nanmax(Q[j,:]))\n",
    "    Q = Q2.copy()\n"
   ]
  },
  {
   "cell_type": "code",
   "execution_count": 31,
   "metadata": {},
   "outputs": [
    {
     "data": {
      "text/plain": [
       "array([[ 9.20213814e-10,  1.09050209e-04,             nan,\n",
       "         1.42927048e-33,             nan,             nan,\n",
       "                    nan,             nan,             nan],\n",
       "       [ 1.12126654e-13,  2.47858573e-08,  1.23497949e-02,\n",
       "                    nan, -9.99996738e-01,             nan,\n",
       "                    nan,             nan,             nan],\n",
       "       [            nan,  1.25471671e-08,  5.19021049e-02,\n",
       "                    nan,             nan,  4.33265025e-01,\n",
       "                    nan,             nan,             nan],\n",
       "       [ 1.55060235e-07,             nan,             nan,\n",
       "         3.57204179e-15, -9.99996738e-01,             nan,\n",
       "                    nan,             nan,             nan],\n",
       "       [            nan,  1.22262969e-11,             nan,\n",
       "         6.58893774e-21, -9.99996727e-01,  4.10213356e-12,\n",
       "                    nan,  3.87474091e-01,             nan],\n",
       "       [            nan,             nan,  9.96434490e-09,\n",
       "                    nan, -1.00000000e+00,  3.04792062e+00,\n",
       "                    nan,             nan,  3.20319781e+00],\n",
       "       [            nan,             nan,             nan,\n",
       "         1.30437780e-12,             nan,             nan,\n",
       "         1.44825380e-06,  3.87475358e-01,             nan],\n",
       "       [            nan,             nan,             nan,\n",
       "                    nan, -9.99999996e-01,             nan,\n",
       "         7.19472081e-07,  2.70990549e-05,  3.20319781e+00],\n",
       "       [            nan,             nan,             nan,\n",
       "                    nan,             nan,  4.76011338e-02,\n",
       "                    nan,  3.04792062e+00,  3.20319781e+00]])"
      ]
     },
     "execution_count": 31,
     "metadata": {},
     "output_type": "execute_result"
    }
   ],
   "source": [
    "Q"
   ]
  },
  {
   "cell_type": "code",
   "execution_count": 32,
   "metadata": {},
   "outputs": [
    {
     "name": "stdout",
     "output_type": "stream",
     "text": [
      "0\n",
      "1\n",
      "2\n",
      "5\n",
      "8\n",
      "8\n",
      "8\n",
      "8\n",
      "8\n",
      "8\n"
     ]
    }
   ],
   "source": [
    "i = 0\n",
    "NUMTRANS = 10\n",
    "for k in range(NUMTRANS):\n",
    "    print(i)\n",
    "    idx = np.isnan(Q[i,:])\n",
    "    allowedStates = np.arange(9)[~idx]\n",
    "    j = Q[i,allowedStates].argmax()\n",
    "    j = allowedStates[j]\n",
    "    i = j"
   ]
  }
 ],
 "metadata": {
  "kernelspec": {
   "display_name": "Python 3",
   "language": "python",
   "name": "python3"
  },
  "language_info": {
   "codemirror_mode": {
    "name": "ipython",
    "version": 3
   },
   "file_extension": ".py",
   "mimetype": "text/x-python",
   "name": "python",
   "nbconvert_exporter": "python",
   "pygments_lexer": "ipython3",
   "version": "3.12.6"
  }
 },
 "nbformat": 4,
 "nbformat_minor": 2
}
